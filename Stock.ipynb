{
 "cells": [
  {
   "cell_type": "code",
   "execution_count": null,
   "metadata": {},
   "outputs": [],
   "source": [
    "# This is a quick-start file for the assignment. Feel free to erase cells you don't need."
   ]
  },
  {
   "cell_type": "code",
   "execution_count": 4,
   "metadata": {},
   "outputs": [],
   "source": [
    "# Your environment is probably missing some packages. We will check and, if necessary, install.\n",
    "# https://pypi.org/project/yfinance\n",
    "import pip\n",
    "from pip._internal.utils.misc import get_installed_distributions\n",
    "pkgs = ''.join(str(get_installed_distributions(local_only=True)))\n",
    "if \"yfinance\" not in pkgs:\n",
    "    !pip install yfinance\n",
    "if \"lxml\" not in pkgs:\n",
    "    !pip install lxml "
   ]
  },
  {
   "cell_type": "code",
   "execution_count": 3,
   "metadata": {},
   "outputs": [],
   "source": [
    "# Now we can import yfinance\n",
    "import yfinance as yf\n",
    "import pandas as pd\n",
    "from pathlib import Path"
   ]
  },
  {
   "cell_type": "code",
   "execution_count": 2,
   "metadata": {},
   "outputs": [],
   "source": [
    "# Let's define some useful constants\n",
    "START = \"2019-01-01\"\n",
    "END   = \"2020-11-13\"\n",
    "\n",
    "company_name = 'AAPL'\n",
    "\n",
    "TICKERS = [company_name]\n",
    "\n",
    "DATAFILE_NAME = \"data.pickle1\" + company_name"
   ]
  },
  {
   "cell_type": "code",
   "execution_count": 5,
   "metadata": {},
   "outputs": [],
   "source": [
    "# It's practical to download data from Yahoo!Finance just once and keep a local copy\n",
    "if Path(DATAFILE_NAME).is_file(): # check if we got the datafile already\n",
    "    data = pd.read_pickle(DATAFILE_NAME) # read it\n",
    "else:\n",
    "    data = yf.download(tickers=TICKERS, start=START, end=END, auto_adjust=True)\n",
    "    data.to_pickle(DATAFILE_NAME) # save localy"
   ]
  },
  {
   "cell_type": "code",
   "execution_count": 6,
   "metadata": {},
   "outputs": [
    {
     "data": {
      "text/html": [
       "<div>\n",
       "<style scoped>\n",
       "    .dataframe tbody tr th:only-of-type {\n",
       "        vertical-align: middle;\n",
       "    }\n",
       "\n",
       "    .dataframe tbody tr th {\n",
       "        vertical-align: top;\n",
       "    }\n",
       "\n",
       "    .dataframe thead th {\n",
       "        text-align: right;\n",
       "    }\n",
       "</style>\n",
       "<table border=\"1\" class=\"dataframe\">\n",
       "  <thead>\n",
       "    <tr style=\"text-align: right;\">\n",
       "      <th></th>\n",
       "      <th>Open</th>\n",
       "      <th>High</th>\n",
       "      <th>Low</th>\n",
       "      <th>Close</th>\n",
       "      <th>Volume</th>\n",
       "    </tr>\n",
       "    <tr>\n",
       "      <th>Date</th>\n",
       "      <th></th>\n",
       "      <th></th>\n",
       "      <th></th>\n",
       "      <th></th>\n",
       "      <th></th>\n",
       "    </tr>\n",
       "  </thead>\n",
       "  <tbody>\n",
       "    <tr>\n",
       "      <th>2018-12-31</th>\n",
       "      <td>38.397145</td>\n",
       "      <td>38.598178</td>\n",
       "      <td>37.900619</td>\n",
       "      <td>38.205803</td>\n",
       "      <td>140014000</td>\n",
       "    </tr>\n",
       "    <tr>\n",
       "      <th>2019-01-02</th>\n",
       "      <td>37.515513</td>\n",
       "      <td>38.474656</td>\n",
       "      <td>37.355655</td>\n",
       "      <td>38.249401</td>\n",
       "      <td>148158800</td>\n",
       "    </tr>\n",
       "    <tr>\n",
       "      <th>2019-01-03</th>\n",
       "      <td>34.873026</td>\n",
       "      <td>35.294468</td>\n",
       "      <td>34.393456</td>\n",
       "      <td>34.439476</td>\n",
       "      <td>365248800</td>\n",
       "    </tr>\n",
       "    <tr>\n",
       "      <th>2019-01-04</th>\n",
       "      <td>35.006239</td>\n",
       "      <td>35.979914</td>\n",
       "      <td>34.829429</td>\n",
       "      <td>35.909672</td>\n",
       "      <td>234428400</td>\n",
       "    </tr>\n",
       "    <tr>\n",
       "      <th>2019-01-07</th>\n",
       "      <td>36.016247</td>\n",
       "      <td>36.047735</td>\n",
       "      <td>35.338065</td>\n",
       "      <td>35.829746</td>\n",
       "      <td>219111200</td>\n",
       "    </tr>\n",
       "  </tbody>\n",
       "</table>\n",
       "</div>"
      ],
      "text/plain": [
       "                 Open       High        Low      Close     Volume\n",
       "Date                                                             \n",
       "2018-12-31  38.397145  38.598178  37.900619  38.205803  140014000\n",
       "2019-01-02  37.515513  38.474656  37.355655  38.249401  148158800\n",
       "2019-01-03  34.873026  35.294468  34.393456  34.439476  365248800\n",
       "2019-01-04  35.006239  35.979914  34.829429  35.909672  234428400\n",
       "2019-01-07  36.016247  36.047735  35.338065  35.829746  219111200"
      ]
     },
     "execution_count": 6,
     "metadata": {},
     "output_type": "execute_result"
    }
   ],
   "source": [
    "data.reset_index()\n",
    "data.head()\n"
   ]
  },
  {
   "cell_type": "code",
   "execution_count": 7,
   "metadata": {},
   "outputs": [
    {
     "data": {
      "text/plain": [
       "34.393456008887206"
      ]
     },
     "execution_count": 7,
     "metadata": {},
     "output_type": "execute_result"
    }
   ],
   "source": [
    "# Lowest stock rate\n",
    "\n",
    "data['Low'].min()"
   ]
  },
  {
   "cell_type": "code",
   "execution_count": 8,
   "metadata": {},
   "outputs": [
    {
     "name": "stdout",
     "output_type": "stream",
     "text": [
      "284.1046070184757\n"
     ]
    }
   ],
   "source": [
    "# Percentage growth of minimum opening price to highest closing price\n",
    "\n",
    "data_OpenMin = data[data[\"Open\"]==data[\"Open\"].min()]\n",
    "data_CloseMax = data[data[\"Close\"]==data[\"Close\"].max()]\n",
    "\n",
    "mini = float(data_OpenMin['Open'])\n",
    "maxim = float(data_CloseMax['Close'])\n",
    "total = (maxim - mini) / mini * 100\n",
    "\n",
    "print(total)"
   ]
  },
  {
   "cell_type": "code",
   "execution_count": 9,
   "metadata": {},
   "outputs": [
    {
     "name": "stdout",
     "output_type": "stream",
     "text": [
      "1.39\n"
     ]
    }
   ],
   "source": [
    "## Percentage growth of 2020-01-02\n",
    "\n",
    "growth_subtract = data.loc['2020-01-02']['Close'] - data.loc['2020-01-02']['Open']\n",
    "\n",
    "total = growth_subtract / data.loc['2020-01-02']['Open'] * 100\n",
    "\n",
    "print(float(\"{0:.2f}\".format(total)))"
   ]
  },
  {
   "cell_type": "code",
   "execution_count": 21,
   "metadata": {},
   "outputs": [
    {
     "name": "stdout",
     "output_type": "stream",
     "text": [
      "Covid start: 74.60424041748047\n",
      "Covid lowest end: 55.29151916503906\n",
      "Covid total drop in percents\n",
      "25.89\n"
     ]
    }
   ],
   "source": [
    "## COVID19 DROP IN PERCENTS\n",
    "covid_start_price = data.loc['2020-03-04']['Close']\n",
    "print(f'Covid start: {covid_start_price}')\n",
    "covid_lowest_end_price = data.loc['2020-03-23']['Close']\n",
    "print(f'Covid lowest end: {covid_lowest_end_price}')\n",
    "\n",
    "\n",
    "covid_total_drop = (covid_start_price - covid_lowest_end_price) / covid_start_price * 100\n",
    "\n",
    "print('Covid total drop in percents')\n",
    "print(float(\"{0:.2f}\".format(covid_total_drop)))\n",
    "\n"
   ]
  },
  {
   "cell_type": "code",
   "execution_count": null,
   "metadata": {},
   "outputs": [],
   "source": []
  }
 ],
 "metadata": {
  "kernelspec": {
   "display_name": "Python 3",
   "language": "python",
   "name": "python3"
  },
  "language_info": {
   "codemirror_mode": {
    "name": "ipython",
    "version": 3
   },
   "file_extension": ".py",
   "mimetype": "text/x-python",
   "name": "python",
   "nbconvert_exporter": "python",
   "pygments_lexer": "ipython3",
   "version": "3.8.3"
  }
 },
 "nbformat": 4,
 "nbformat_minor": 2
}
